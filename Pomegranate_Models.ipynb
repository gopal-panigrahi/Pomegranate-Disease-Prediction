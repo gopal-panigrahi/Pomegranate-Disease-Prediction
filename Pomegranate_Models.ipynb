{
  "nbformat": 4,
  "nbformat_minor": 0,
  "metadata": {
    "colab": {
      "name": "Pomegranate Models.ipynb",
      "provenance": []
    },
    "kernelspec": {
      "name": "python3",
      "display_name": "Python 3"
    },
    "language_info": {
      "name": "python"
    }
  },
  "cells": [
    {
      "cell_type": "code",
      "metadata": {
        "id": "GqfvZo-00vAu"
      },
      "source": [
        "import pandas as pd\n",
        "import pickle\n",
        "from sklearn.model_selection import train_test_split\n",
        "from sklearn import metrics\n",
        "from sklearn.svm import SVC\n",
        "from sklearn.naive_bayes import GaussianNB\n",
        "from sklearn.neighbors import KNeighborsClassifier"
      ],
      "execution_count": 37,
      "outputs": []
    },
    {
      "cell_type": "code",
      "metadata": {
        "id": "XboaRB7Q1UPt"
      },
      "source": [
        "df = pd.read_csv('/content/Farmdata.csv')"
      ],
      "execution_count": 7,
      "outputs": []
    },
    {
      "cell_type": "code",
      "metadata": {
        "colab": {
          "base_uri": "https://localhost:8080/",
          "height": 297
        },
        "id": "HkXscKo51ULS",
        "outputId": "89e244ea-781d-4444-8d4c-f69e777eb020"
      },
      "source": [
        "df.describe()"
      ],
      "execution_count": 8,
      "outputs": [
        {
          "output_type": "execute_result",
          "data": {
            "text/html": [
              "<div>\n",
              "<style scoped>\n",
              "    .dataframe tbody tr th:only-of-type {\n",
              "        vertical-align: middle;\n",
              "    }\n",
              "\n",
              "    .dataframe tbody tr th {\n",
              "        vertical-align: top;\n",
              "    }\n",
              "\n",
              "    .dataframe thead th {\n",
              "        text-align: right;\n",
              "    }\n",
              "</style>\n",
              "<table border=\"1\" class=\"dataframe\">\n",
              "  <thead>\n",
              "    <tr style=\"text-align: right;\">\n",
              "      <th></th>\n",
              "      <th>Temperature</th>\n",
              "      <th>Humidity</th>\n",
              "      <th>Moisture</th>\n",
              "    </tr>\n",
              "  </thead>\n",
              "  <tbody>\n",
              "    <tr>\n",
              "      <th>count</th>\n",
              "      <td>136.000000</td>\n",
              "      <td>136.000000</td>\n",
              "      <td>136.000000</td>\n",
              "    </tr>\n",
              "    <tr>\n",
              "      <th>mean</th>\n",
              "      <td>29.176471</td>\n",
              "      <td>48.808824</td>\n",
              "      <td>74.955882</td>\n",
              "    </tr>\n",
              "    <tr>\n",
              "      <th>std</th>\n",
              "      <td>4.780953</td>\n",
              "      <td>23.873591</td>\n",
              "      <td>11.147408</td>\n",
              "    </tr>\n",
              "    <tr>\n",
              "      <th>min</th>\n",
              "      <td>18.000000</td>\n",
              "      <td>21.000000</td>\n",
              "      <td>45.000000</td>\n",
              "    </tr>\n",
              "    <tr>\n",
              "      <th>25%</th>\n",
              "      <td>28.000000</td>\n",
              "      <td>29.000000</td>\n",
              "      <td>74.000000</td>\n",
              "    </tr>\n",
              "    <tr>\n",
              "      <th>50%</th>\n",
              "      <td>30.000000</td>\n",
              "      <td>35.000000</td>\n",
              "      <td>78.000000</td>\n",
              "    </tr>\n",
              "    <tr>\n",
              "      <th>75%</th>\n",
              "      <td>32.000000</td>\n",
              "      <td>80.000000</td>\n",
              "      <td>81.000000</td>\n",
              "    </tr>\n",
              "    <tr>\n",
              "      <th>max</th>\n",
              "      <td>36.000000</td>\n",
              "      <td>90.000000</td>\n",
              "      <td>96.000000</td>\n",
              "    </tr>\n",
              "  </tbody>\n",
              "</table>\n",
              "</div>"
            ],
            "text/plain": [
              "       Temperature    Humidity    Moisture\n",
              "count   136.000000  136.000000  136.000000\n",
              "mean     29.176471   48.808824   74.955882\n",
              "std       4.780953   23.873591   11.147408\n",
              "min      18.000000   21.000000   45.000000\n",
              "25%      28.000000   29.000000   74.000000\n",
              "50%      30.000000   35.000000   78.000000\n",
              "75%      32.000000   80.000000   81.000000\n",
              "max      36.000000   90.000000   96.000000"
            ]
          },
          "metadata": {
            "tags": []
          },
          "execution_count": 8
        }
      ]
    },
    {
      "cell_type": "code",
      "metadata": {
        "colab": {
          "base_uri": "https://localhost:8080/",
          "height": 173
        },
        "id": "PGkrSPgb1UI0",
        "outputId": "7b07c5ed-52cd-4944-e54c-4dc565488ec4"
      },
      "source": [
        "df.head(4)"
      ],
      "execution_count": 9,
      "outputs": [
        {
          "output_type": "execute_result",
          "data": {
            "text/html": [
              "<div>\n",
              "<style scoped>\n",
              "    .dataframe tbody tr th:only-of-type {\n",
              "        vertical-align: middle;\n",
              "    }\n",
              "\n",
              "    .dataframe tbody tr th {\n",
              "        vertical-align: top;\n",
              "    }\n",
              "\n",
              "    .dataframe thead th {\n",
              "        text-align: right;\n",
              "    }\n",
              "</style>\n",
              "<table border=\"1\" class=\"dataframe\">\n",
              "  <thead>\n",
              "    <tr style=\"text-align: right;\">\n",
              "      <th></th>\n",
              "      <th>Temperature</th>\n",
              "      <th>Humidity</th>\n",
              "      <th>Moisture</th>\n",
              "      <th>Disease</th>\n",
              "    </tr>\n",
              "  </thead>\n",
              "  <tbody>\n",
              "    <tr>\n",
              "      <th>0</th>\n",
              "      <td>32</td>\n",
              "      <td>56</td>\n",
              "      <td>78</td>\n",
              "      <td>No</td>\n",
              "    </tr>\n",
              "    <tr>\n",
              "      <th>1</th>\n",
              "      <td>31</td>\n",
              "      <td>58</td>\n",
              "      <td>78</td>\n",
              "      <td>No</td>\n",
              "    </tr>\n",
              "    <tr>\n",
              "      <th>2</th>\n",
              "      <td>30</td>\n",
              "      <td>57</td>\n",
              "      <td>75</td>\n",
              "      <td>No</td>\n",
              "    </tr>\n",
              "    <tr>\n",
              "      <th>3</th>\n",
              "      <td>28</td>\n",
              "      <td>50</td>\n",
              "      <td>76</td>\n",
              "      <td>No</td>\n",
              "    </tr>\n",
              "  </tbody>\n",
              "</table>\n",
              "</div>"
            ],
            "text/plain": [
              "   Temperature  Humidity  Moisture Disease\n",
              "0           32        56        78      No\n",
              "1           31        58        78      No\n",
              "2           30        57        75      No\n",
              "3           28        50        76      No"
            ]
          },
          "metadata": {
            "tags": []
          },
          "execution_count": 9
        }
      ]
    },
    {
      "cell_type": "code",
      "metadata": {
        "id": "K-gL4zOE1UGZ"
      },
      "source": [
        "target = df['Disease']\n",
        "inputs = df.drop(['Disease'],axis='columns')"
      ],
      "execution_count": 10,
      "outputs": []
    },
    {
      "cell_type": "code",
      "metadata": {
        "id": "CuG4mBlh1UD1"
      },
      "source": [
        "x_train,x_test,y_train,y_test = train_test_split(inputs,target,test_size=0.20)"
      ],
      "execution_count": 22,
      "outputs": []
    },
    {
      "cell_type": "code",
      "metadata": {
        "colab": {
          "base_uri": "https://localhost:8080/"
        },
        "id": "K2w_R4aW1UBP",
        "outputId": "409d923d-7a17-42ed-a085-c0a9147a040f"
      },
      "source": [
        "model = SVC(kernel=\"linear\")\n",
        "model.fit(x_train,y_train)\n",
        "print(\"Accuracy : \",model.score(x_test,y_test)*100,\"%\")\n",
        "print(\"Confusion Matrix \\n\",metrics.confusion_matrix(predicted,y_test))\n",
        "print(\"Classification Report \\n\",metrics.classification_report(predicted,y_test))\n",
        "pickle.dump(model, open('/content/models/svm_model.sav', 'wb'))"
      ],
      "execution_count": 42,
      "outputs": [
        {
          "output_type": "stream",
          "text": [
            "Accuracy :  82.14285714285714 %\n",
            "Confusion Matrix \n",
            " [[ 0  0  0  0  0]\n",
            " [ 0  1  0  0  0]\n",
            " [ 0  0  0  0  0]\n",
            " [ 1  0  2 22  2]\n",
            " [ 0  0  0  0  0]]\n",
            "Classification Report \n",
            "                    precision    recall  f1-score   support\n",
            "\n",
            " Bacterial Blight       0.00      0.00      0.00         0\n",
            "Fito Flora Blight       1.00      1.00      1.00         1\n",
            "      Fungal spot       0.00      0.00      0.00         0\n",
            "               No       1.00      0.81      0.90        27\n",
            "             Wilt       0.00      0.00      0.00         0\n",
            "\n",
            "         accuracy                           0.82        28\n",
            "        macro avg       0.40      0.36      0.38        28\n",
            "     weighted avg       1.00      0.82      0.90        28\n",
            "\n"
          ],
          "name": "stdout"
        },
        {
          "output_type": "stream",
          "text": [
            "/usr/local/lib/python3.7/dist-packages/sklearn/metrics/_classification.py:1272: UndefinedMetricWarning: Recall and F-score are ill-defined and being set to 0.0 in labels with no true samples. Use `zero_division` parameter to control this behavior.\n",
            "  _warn_prf(average, modifier, msg_start, len(result))\n"
          ],
          "name": "stderr"
        }
      ]
    },
    {
      "cell_type": "code",
      "metadata": {
        "colab": {
          "base_uri": "https://localhost:8080/"
        },
        "id": "o_Ud8Nag1T-q",
        "outputId": "430706a1-93de-4e5c-b5f4-90a6837c9387"
      },
      "source": [
        "model = GaussianNB()\n",
        "model.fit(x_train,y_train)\n",
        "print(\"Accuracy : \",model.score(x_test,y_test)*100,\"%\")\n",
        "print(\"Confusion Matrix \\n\",metrics.confusion_matrix(predicted,y_test))\n",
        "print(\"Classification Report \\n\",metrics.classification_report(predicted,y_test))\n",
        "pickle.dump(model, open('/content/models/naiveBayes_model.sav', 'wb'))"
      ],
      "execution_count": 43,
      "outputs": [
        {
          "output_type": "stream",
          "text": [
            "Accuracy :  100.0 %\n",
            "Confusion Matrix \n",
            " [[ 0  0  0  0  0]\n",
            " [ 0  1  0  0  0]\n",
            " [ 0  0  0  0  0]\n",
            " [ 1  0  2 22  2]\n",
            " [ 0  0  0  0  0]]\n",
            "Classification Report \n",
            "                    precision    recall  f1-score   support\n",
            "\n",
            " Bacterial Blight       0.00      0.00      0.00         0\n",
            "Fito Flora Blight       1.00      1.00      1.00         1\n",
            "      Fungal spot       0.00      0.00      0.00         0\n",
            "               No       1.00      0.81      0.90        27\n",
            "             Wilt       0.00      0.00      0.00         0\n",
            "\n",
            "         accuracy                           0.82        28\n",
            "        macro avg       0.40      0.36      0.38        28\n",
            "     weighted avg       1.00      0.82      0.90        28\n",
            "\n"
          ],
          "name": "stdout"
        },
        {
          "output_type": "stream",
          "text": [
            "/usr/local/lib/python3.7/dist-packages/sklearn/metrics/_classification.py:1272: UndefinedMetricWarning: Recall and F-score are ill-defined and being set to 0.0 in labels with no true samples. Use `zero_division` parameter to control this behavior.\n",
            "  _warn_prf(average, modifier, msg_start, len(result))\n"
          ],
          "name": "stderr"
        }
      ]
    },
    {
      "cell_type": "code",
      "metadata": {
        "colab": {
          "base_uri": "https://localhost:8080/"
        },
        "id": "_rhdTLtV1T8Q",
        "outputId": "2ff75030-ec8b-463c-81d6-30bf1674630c"
      },
      "source": [
        "model = KNeighborsClassifier(n_neighbors=5)\n",
        "model.fit(x_train,y_train)\n",
        "print(\"Accuracy : \",model.score(x_test,y_test)*100,\"%\")\n",
        "print(\"Confusion Matrix \\n\",metrics.confusion_matrix(predicted,y_test))\n",
        "print(\"Classification Report \\n\",metrics.classification_report(predicted,y_test))\n",
        "pickle.dump(model, open('/content/models/knn_model.sav', 'wb'))"
      ],
      "execution_count": 41,
      "outputs": [
        {
          "output_type": "stream",
          "text": [
            "Accuracy :  82.14285714285714 %\n",
            "Confusion Matrix \n",
            " [[ 0  0  0  0  0]\n",
            " [ 0  1  0  0  0]\n",
            " [ 0  0  0  0  0]\n",
            " [ 1  0  2 22  2]\n",
            " [ 0  0  0  0  0]]\n",
            "Classification Report \n",
            "                    precision    recall  f1-score   support\n",
            "\n",
            " Bacterial Blight       0.00      0.00      0.00         0\n",
            "Fito Flora Blight       1.00      1.00      1.00         1\n",
            "      Fungal spot       0.00      0.00      0.00         0\n",
            "               No       1.00      0.81      0.90        27\n",
            "             Wilt       0.00      0.00      0.00         0\n",
            "\n",
            "         accuracy                           0.82        28\n",
            "        macro avg       0.40      0.36      0.38        28\n",
            "     weighted avg       1.00      0.82      0.90        28\n",
            "\n"
          ],
          "name": "stdout"
        },
        {
          "output_type": "stream",
          "text": [
            "/usr/local/lib/python3.7/dist-packages/sklearn/metrics/_classification.py:1272: UndefinedMetricWarning: Recall and F-score are ill-defined and being set to 0.0 in labels with no true samples. Use `zero_division` parameter to control this behavior.\n",
            "  _warn_prf(average, modifier, msg_start, len(result))\n"
          ],
          "name": "stderr"
        }
      ]
    },
    {
      "cell_type": "code",
      "metadata": {
        "id": "SqDCRuDc1T5z"
      },
      "source": [
        ""
      ],
      "execution_count": null,
      "outputs": []
    },
    {
      "cell_type": "code",
      "metadata": {
        "id": "Us9qk78e1T3A"
      },
      "source": [
        ""
      ],
      "execution_count": null,
      "outputs": []
    },
    {
      "cell_type": "code",
      "metadata": {
        "id": "SO3BWPse1Tz8"
      },
      "source": [
        ""
      ],
      "execution_count": null,
      "outputs": []
    }
  ]
}